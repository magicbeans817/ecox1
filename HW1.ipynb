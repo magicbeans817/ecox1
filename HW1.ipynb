{
 "cells": [
  {
   "cell_type": "markdown",
   "metadata": {},
   "source": [
    "## Problem 1"
   ]
  },
  {
   "cell_type": "markdown",
   "metadata": {},
   "source": [
    "# a)\n",
    "\n",
    "We want to obtain log-likelihood function for a random sample of n observations. Our likelihood function looks like this:\n",
    "\n",
    "\\begin{equation*}\n",
    "L(\\alpha, \\beta | x ) = \\Pi_{i=1}^n f(x_i | \\alpha , \\beta )\n",
    "\\end{equation*}\n",
    "\n",
    "Now we logarithmize both sides of likelihood function and perform several computations in order to simplify result:\n",
    "\n",
    "\\begin{equation*}\n",
    "\\ln L(\\alpha, \\beta | x ) = \\sum_{i=1}^n \\ln f(x_i | \\alpha , \\beta ) = \n",
    "\\sum_{i=1}^n \\ln (\\alpha \\beta x_{i}^{\\beta-1}e^{-\\alpha x_i^\\beta}) = \n",
    "\\sum_{i=1}^n \\Big( \\ln(\\alpha \\beta) + (\\beta-1) \\ln(x_i)-\\alpha x_i^\\beta \\Big) = \n",
    "n \\ln (\\alpha \\beta ) + (\\beta - 1) \\sum_{i=1}^n \\Big(\\ln(x_i)\\Big) - \\alpha \\sum_{i=1}^n x_i^\\beta\n",
    "\\end{equation*}\n",
    "\n",
    "\n",
    "Our log-likelihood function for a random sample of n observations:\n",
    "\\begin{equation*}\n",
    "\\ln L(\\alpha, \\beta | x ) = n \\ln (\\alpha \\beta ) + (\\beta - 1) \\sum_{i=1}^n (\\ln(x_i)) - \\alpha \\sum_{i=1}^n x_i^\\beta\n",
    "\\end{equation*}"
   ]
  },
  {
   "cell_type": "markdown",
   "metadata": {},
   "source": [
    "# b)\n",
    "\n",
    "Necessary condition equations for $\\alpha$ and $\\beta$ can be easily derived by taking first derivatives of the log-likelihood function with respect to $\\alpha$ and $\\beta$ respectively and setting them to be equal to zero:\\\n",
    "(This makes sense, as we are trying to maximize the log-likelihood function) \n",
    "\n",
    "\n",
    "$$\n",
    "\\left[\\begin{array}{cc} \n",
    "\\frac{\\partial \\ln L}{\\partial \\alpha} \\\\\n",
    "\\frac{\\partial \\ln L}{\\partial \\beta}\n",
    "\\end{array}\\right] =\n",
    "\\left[\\begin{array}{cc} \n",
    "\\frac{n}{\\alpha} - \\sum_{i=1}^n x_i^\\beta \\\\ \n",
    "\\frac{n}{\\beta} + \\sum_{i=1}^n \\Big( \\ln ( x_i ) \\Big) - \\alpha \\sum_{i=1}^n x_i^\\beta \\ln(x_i)\n",
    "\\end{array}\\right] =\n",
    "\\left[\\begin{array}{cc} \n",
    "0 \\\\ \n",
    "0\n",
    "\\end{array}\\right]\n",
    "$$\n",
    "\n",
    "\n",
    "From this we can easily derive that \n",
    "\n",
    "$$\\alpha = \\frac{n}{\\sum_{i=1}^n x_i^\\beta}$$"
   ]
  },
  {
   "cell_type": "markdown",
   "metadata": {},
   "source": [
    "# c) \n",
    "\n",
    "Hessian matrix of the log-likelihood with respect to $\\alpha$ and $\\beta$:\n",
    "\n",
    "$$\n",
    "H = \n",
    "\\left[\\begin{array}{cc} \n",
    "\\frac{\\partial^2 \\ln L}{\\partial \\alpha^2} & \\frac{\\partial^2 \\ln L}{\\partial \\alpha \\partial \\beta}\\\\\n",
    "\\frac{\\partial^2 \\ln L}{\\partial \\alpha \\partial \\beta} & \\frac{\\partial^2 \\ln L}{\\partial \\beta^2}\n",
    "\\end{array}\\right] =\n",
    "\\left[\\begin{array}{cc} \n",
    "\\frac{-n}{\\alpha^2} & - \\sum_{i=1}^n x_i^\\beta \\ln(x_i)\\\\ \n",
    "-\\sum_{i=1}^n x_i^\\beta \\ln(x_i) & \\frac{-n}{\\beta^2}-\\alpha \\sum_{i=1}^n x_i^\\beta \\ln^2(x_i)\n",
    "\\end{array}\\right]\n",
    "$$\n",
    "\n"
   ]
  },
  {
   "cell_type": "markdown",
   "metadata": {},
   "source": [
    "We will load our dataset for Problem Set 1:"
   ]
  },
  {
   "cell_type": "code",
   "execution_count": 1,
   "metadata": {},
   "outputs": [
    {
     "data": {
      "text/html": [
       "<ol class=list-inline>\n",
       "\t<li>7.70759288321303</li>\n",
       "\t<li>4.07450241902049</li>\n",
       "\t<li>9.54864981180023</li>\n",
       "\t<li>9.20083604407673</li>\n",
       "\t<li>4.28265254818897</li>\n",
       "\t<li>9.19847435551473</li>\n",
       "</ol>\n"
      ],
      "text/latex": [
       "\\begin{enumerate*}\n",
       "\\item 7.70759288321303\n",
       "\\item 4.07450241902049\n",
       "\\item 9.54864981180023\n",
       "\\item 9.20083604407673\n",
       "\\item 4.28265254818897\n",
       "\\item 9.19847435551473\n",
       "\\end{enumerate*}\n"
      ],
      "text/markdown": [
       "1. 7.70759288321303\n",
       "2. 4.07450241902049\n",
       "3. 9.54864981180023\n",
       "4. 9.20083604407673\n",
       "5. 4.28265254818897\n",
       "6. 9.19847435551473\n",
       "\n",
       "\n"
      ],
      "text/plain": [
       "[1] 7.707593 4.074502 9.548650 9.200836 4.282653 9.198474"
      ]
     },
     "metadata": {},
     "output_type": "display_data"
    },
    {
     "data": {
      "text/plain": [
       "     Min.   1st Qu.    Median      Mean   3rd Qu.      Max. \n",
       "  0.00902   4.44232  10.56822  15.19931  21.05152 154.02744 "
      ]
     },
     "metadata": {},
     "output_type": "display_data"
    },
    {
     "data": {
      "image/png": "[encoded data removed]",
      "text/plain": [
       "Plot with title \"Histogram of data1\""
      ]
     },
     "metadata": {},
     "output_type": "display_data"
    }
   ],
   "source": [
    "setwd(\"C:/Users/Honza/Desktop/ecoxhw1/ecox1\")\n",
    "data1 <- get(load(\"problem_1_dataset.Rdata\"))\n",
    "head(data1)\n",
    "summary(data1)\n",
    "hist(data1)"
   ]
  },
  {
   "cell_type": "markdown",
   "metadata": {},
   "source": [
    "# d)\n",
    "\n",
    "We want to obtain maximum likelihood estimates of $\\alpha$ and $\\beta$, and estimate the asymptotic covariance matrix for the estimates. We begin by computing estimates of $\\alpha$ and $\\beta$:\n",
    "\n",
    "\n"
   ]
  },
  {
   "cell_type": "code",
   "execution_count": 17,
   "metadata": {},
   "outputs": [
    {
     "data": {
      "text/plain": [
       "--------------------------------------------\n",
       "Maximum Likelihood estimation\n",
       "Newton-Raphson maximisation, 5 iterations\n",
       "Return code 2: successive function values within tolerance limit\n",
       "Log-Likelihood: -18605.46 \n",
       "2  free parameters\n",
       "Estimates:\n",
       "      Estimate Std. error t value Pr(> t)    \n",
       "alpha 0.062975   0.002381   26.45  <2e-16 ***\n",
       "beta  1.013935   0.011147   90.96  <2e-16 ***\n",
       "---\n",
       "Signif. codes:  0 '***' 0.001 '**' 0.01 '*' 0.05 '.' 0.1 ' ' 1\n",
       "--------------------------------------------"
      ]
     },
     "metadata": {},
     "output_type": "display_data"
    },
    {
     "data": {
      "text/html": [
       "<strong>alpha:</strong> 0.06297"
      ],
      "text/latex": [
       "\\textbf{alpha:} 0.06297"
      ],
      "text/markdown": [
       "**alpha:** 0.06297"
      ],
      "text/plain": [
       "  alpha \n",
       "0.06297 "
      ]
     },
     "metadata": {},
     "output_type": "display_data"
    },
    {
     "data": {
      "text/html": [
       "<strong>beta:</strong> 1.01394"
      ],
      "text/latex": [
       "\\textbf{beta:} 1.01394"
      ],
      "text/markdown": [
       "**beta:** 1.01394"
      ],
      "text/plain": [
       "   beta \n",
       "1.01394 "
      ]
     },
     "metadata": {},
     "output_type": "display_data"
    },
    {
     "data": {
      "text/html": [
       "<table>\n",
       "<thead><tr><th></th><th scope=col>alpha</th><th scope=col>beta</th></tr></thead>\n",
       "<tbody>\n",
       "\t<tr><th scope=row>alpha</th><td> 5.669411e-06</td><td>-2.461425e-05</td></tr>\n",
       "\t<tr><th scope=row>beta</th><td>-2.461425e-05</td><td> 1.242473e-04</td></tr>\n",
       "</tbody>\n",
       "</table>\n"
      ],
      "text/latex": [
       "\\begin{tabular}{r|ll}\n",
       "  & alpha & beta\\\\\n",
       "\\hline\n",
       "\talpha &  5.669411e-06 & -2.461425e-05\\\\\n",
       "\tbeta & -2.461425e-05 &  1.242473e-04\\\\\n",
       "\\end{tabular}\n"
      ],
      "text/markdown": [
       "\n",
       "| <!--/--> | alpha | beta |\n",
       "|---|---|---|\n",
       "| alpha |  5.669411e-06 | -2.461425e-05 |\n",
       "| beta | -2.461425e-05 |  1.242473e-04 |\n",
       "\n"
      ],
      "text/plain": [
       "      alpha         beta         \n",
       "alpha  5.669411e-06 -2.461425e-05\n",
       "beta  -2.461425e-05  1.242473e-04"
      ]
     },
     "metadata": {},
     "output_type": "display_data"
    }
   ],
   "source": [
    "library('maxLik') #load necessary packages\n",
    "library('lmtest')\n",
    "\n",
    "n <- length(data1) #number of observations\n",
    "\n",
    "logLikFun <- function(param){\n",
    "    if (param[1] <= 0 | param[2] <= 0) return(NA) #alpha and beta must be qreater than zero\n",
    "    return(n* log(param[1]*param[2]) + (param[2]-1)*sum(log(data1)) - param[1]*sum(data1^param[2])) #log-likelihood function\n",
    "}\n",
    "\n",
    "gradLik <- function(param){\n",
    "    if (param[1] <= 0 | param[2] <= 0) return(NA) #alpha and beta must be qreater than zero\n",
    "    alpha <- param[1]\n",
    "    beta <- param[2]\n",
    "    g <- numeric(2)\n",
    "    g[1] <- n/alpha - sum(data1^beta)\n",
    "    g[2] <- cbind(n/beta + sum(log(data1)) - alpha*sum(data1^beta * log(data1)))\n",
    "    return(t(g))\n",
    "}\n",
    "\n",
    "hessian <- function(param){\n",
    "    if (param[1] <= 0 | param[2] <= 0) return(NA) #alpha and beta must be qreater than zero\n",
    "    alpha <- param[1]\n",
    "    beta <- param[2]\n",
    "    row1col1 <- ((-n)/alpha**2)\n",
    "    row2col1 <- -sum(log(data1)*data1^beta)\n",
    "    row1col2 <- -sum(log(data1)*data1^beta)\n",
    "    row2col2 <- ((-n)/(beta^2)) - alpha*sum((log(data1)^2)*(data1^beta))\n",
    "    hessian_matrix <- matrix(c(row1col1,row2col1,row1col2,row2col2), nrow = 2, ncol = 2)\n",
    "    return(hessian_matrix)\n",
    "}\n",
    "                                              \n",
    "# When I use gradient and hessian as inputs, my results are different (in bad way).\n",
    "#What is defined wrong in gradLik and hessian?\n",
    "mle <- maxLik(logLik = logLikFun, \n",
    "              grad = gradLik,\n",
    "              hess = hessian,\n",
    "              start = c(alpha = 0.04, beta = 1.05))\n",
    "summary(mle)\n",
    "#print(paste(\"alpha = \" coef))\n",
    "\n",
    "alpha <- coef(mle)[1]\n",
    "beta <- coef(mle)[2]\n",
    "\n",
    "round(alpha,5)\n",
    "round(beta,5)\n",
    "\n",
    "    \n",
    "\n",
    "vcov(mle)"
   ]
  },
  {
   "cell_type": "markdown",
   "metadata": {},
   "source": [
    "Now that we have obtained estimates of $\\alpha$ and $\\beta$ we can compute covariance matrix for our estimates:"
   ]
  },
  {
   "cell_type": "code",
   "execution_count": 166,
   "metadata": {},
   "outputs": [
    {
     "name": "stdout",
     "output_type": "stream",
     "text": [
      "           [,1]       [,2]\n",
      "[1,] -1260782.8 -249769.79\n",
      "[2,]  -249769.8  -20592.64\n"
     ]
    }
   ],
   "source": [
    "alpha <- coef(mle)[1]\n",
    "beta <- coef(mle)[2]\n",
    "row1col1 <- ((-n)/alpha**2)\n",
    "row2col1 <- -sum((data1**beta)*log(data1))\n",
    "row1col2 <- -sum((data1^beta)*log(data1))\n",
    "row2col2 <- (-n)/(beta^2) - alpha * sum((data1^beta)*log(data1))\n",
    "hessian_matrix <- matrix(c(row1col1,row2col1,row1col2,row2col2), nrow = 2, ncol = 2)\n",
    "print(hessian_matrix)"
   ]
  },
  {
   "cell_type": "code",
   "execution_count": 167,
   "metadata": {},
   "outputs": [
    {
     "name": "stdout",
     "output_type": "stream",
     "text": [
      "             [,1]         [,2]\n",
      "[1,] 7.931580e-07 4.003687e-06\n",
      "[2,] 4.003687e-06 4.856104e-05\n"
     ]
    }
   ],
   "source": [
    "fisher_information_matrix <- -hessian_matrix\n",
    "covariance_matrix <- fisher_information_matrix^(-1)\n",
    "print(covariance_matrix)\n",
    "#Covariance matrix from inputting straight into formula - which covariance matrix is the right one?"
   ]
  },
  {
   "cell_type": "markdown",
   "metadata": {},
   "source": [
    "# e)\n",
    "\n",
    "We want to obtain maximum likelihood estimate of $\\alpha$ under the hypothesis that $\\beta=1$."
   ]
  },
  {
   "cell_type": "code",
   "execution_count": 136,
   "metadata": {},
   "outputs": [
    {
     "ename": "ERROR",
     "evalue": "Error in parse(text = x, srcfile = src): <text>:1:3: unexpected string constant\n9: summary(mle2)\n10: '\n      ^\n",
     "output_type": "error",
     "traceback": [
      "Error in parse(text = x, srcfile = src): <text>:1:3: unexpected string constant\n9: summary(mle2)\n10: '\n      ^\nTraceback:\n"
     ]
    }
   ],
   "source": [
    "'''\n",
    "logLikFun2 <- function(param){\n",
    "    param[2] <- 1\n",
    "    if (param[1] <= 0 | param[2] <= 0) return(NA) #alpha and beta must be qreater than zero\n",
    "    return(n* log(param[1]*param[2]) + (param[2]-1)*sum(log(data1)) - param[1]*sum(data1^param[2])) #log-likelihood function\n",
    "}\n",
    "\n",
    "mle2 <- maxLik(logLikFun2, start = c(alpha = 2, beta = 1))\n",
    "summary(mle2)\n",
    "'''\n",
    "#Why is this not working?\n",
    "'''\n",
    "    just checking if I understand stuff from Statistics\n",
    "    weibull <- function(alpha, beta, vector){\n",
    "    funkce <- alpha * beta * vector^(beta-1) * 2.7**(-alpha * vector**beta)\n",
    "    return(funkce)\n",
    "    }\n",
    "    newdata <- weibull(alpha,beta,data1)\n",
    "    plot(data1,newdata)\n",
    "    '''"
   ]
  },
  {
   "cell_type": "code",
   "execution_count": 19,
   "metadata": {},
   "outputs": [
    {
     "data": {
      "text/plain": [
       "--------------------------------------------\n",
       "Maximum Likelihood estimation\n",
       "Newton-Raphson maximisation, 5 iterations\n",
       "Return code 1: gradient close to zero\n",
       "Log-Likelihood: -29404.1 \n",
       "1  free parameters\n",
       "Estimates:\n",
       "       Estimate Std. error t value Pr(> t)    \n",
       "alpha 0.0657925  0.0009304   70.71  <2e-16 ***\n",
       "---\n",
       "Signif. codes:  0 '***' 0.001 '**' 0.01 '*' 0.05 '.' 0.1 ' ' 1\n",
       "--------------------------------------------"
      ]
     },
     "metadata": {},
     "output_type": "display_data"
    },
    {
     "data": {
      "text/html": [
       "<strong>alpha:</strong> 0.06579"
      ],
      "text/latex": [
       "\\textbf{alpha:} 0.06579"
      ],
      "text/markdown": [
       "**alpha:** 0.06579"
      ],
      "text/plain": [
       "  alpha \n",
       "0.06579 "
      ]
     },
     "metadata": {},
     "output_type": "display_data"
    }
   ],
   "source": [
    "#We set beta to be equal to one\n",
    "\n",
    "logLikFun2 <- function(param){\n",
    "    if (param[1] <= 0) return(NA) #alpha and beta must be qreater than zero\n",
    "    return(n* log(param[1]) + (-1)*sum(log(data1)) - param[1]*sum(data1)) #log-likelihood function\n",
    "}\n",
    "\n",
    "gradLik2 <- function(param){\n",
    "    if (param[1] <= 0) return(NA) #alpha and beta must be qreater than zero\n",
    "    alpha <- param[1]\n",
    "    g <- numeric(1)\n",
    "    g[1] <- n/alpha - sum(data1)\n",
    "    return(t(g))\n",
    "}\n",
    "\n",
    "hessian2 <- function(param){\n",
    "    if (param[1] <= 0) return(NA) #alpha and beta must be qreater than zero\n",
    "    alpha <- param[1]\n",
    "    row1col1 <- ((-n)/alpha**2)\n",
    "    hessian_matrix <- matrix(c(row1col1), nrow = 1, ncol = 1)\n",
    "    return(hessian_matrix)\n",
    "}\n",
    "\n",
    "mle2 <- maxLik(logLik = logLikFun2, \n",
    "              grad = gradLik2,\n",
    "              hess = hessian2,\n",
    "              start = c(alpha = 0.04))\n",
    "\n",
    "summary(mle2)\n",
    "round(coef(mle2)[1],5)"
   ]
  },
  {
   "cell_type": "markdown",
   "metadata": {},
   "source": [
    "# f)\n",
    "\n",
    "We will carry out Wald test with $H_0:$ $\\beta=1$"
   ]
  },
  {
   "cell_type": "code",
   "execution_count": 20,
   "metadata": {},
   "outputs": [
    {
     "data": {
      "text/html": [
       "<table>\n",
       "<thead><tr><th scope=col>Res.Df</th><th scope=col>Df</th><th scope=col>Chisq</th><th scope=col>Pr(&gt;Chisq)</th></tr></thead>\n",
       "<tbody>\n",
       "\t<tr><td>-2      </td><td>NA      </td><td>      NA</td><td>NA      </td></tr>\n",
       "\t<tr><td>-1      </td><td>-1      </td><td>8274.339</td><td> 0      </td></tr>\n",
       "</tbody>\n",
       "</table>\n"
      ],
      "text/latex": [
       "\\begin{tabular}{r|llll}\n",
       " Res.Df & Df & Chisq & Pr(>Chisq)\\\\\n",
       "\\hline\n",
       "\t -2       & NA       &       NA & NA      \\\\\n",
       "\t -1       & -1       & 8274.339 &  0      \\\\\n",
       "\\end{tabular}\n"
      ],
      "text/markdown": [
       "\n",
       "| Res.Df | Df | Chisq | Pr(>Chisq) |\n",
       "|---|---|---|---|\n",
       "| -2       | NA       |       NA | NA       |\n",
       "| -1       | -1       | 8274.339 |  0       |\n",
       "\n"
      ],
      "text/plain": [
       "  Res.Df Df Chisq    Pr(>Chisq)\n",
       "1 -2     NA       NA NA        \n",
       "2 -1     -1 8274.339  0        "
      ]
     },
     "metadata": {},
     "output_type": "display_data"
    },
    {
     "data": {
      "text/html": [],
      "text/latex": [],
      "text/markdown": [],
      "text/plain": [
       "numeric(0)"
      ]
     },
     "metadata": {},
     "output_type": "display_data"
    }
   ],
   "source": [
    "# wald test\n",
    "waldtest(mle, mle2)\n",
    "\n",
    "coefs <- summary(mle2)$coefficients[2,]\n",
    "wald_stat <- (coefs[1]/coefs[2])^2 # (estimate/se)^2\n",
    "# p-value by hand\n",
    "pchisq(wald_stat, 1, lower.tail=F)"
   ]
  },
  {
   "cell_type": "code",
   "execution_count": null,
   "metadata": {},
   "outputs": [],
   "source": [
    "# a tady uz nevim. Abych to prevedl na OLS, musel bych pracovat s normalnim rozdelenim, a tohle neni normalni."
   ]
  },
  {
   "cell_type": "markdown",
   "metadata": {},
   "source": [
    "# g)\n",
    "\n",
    "We will carry out likelihood ratio test with $H_0$ : $\\beta = 1$"
   ]
  },
  {
   "cell_type": "code",
   "execution_count": null,
   "metadata": {},
   "outputs": [],
   "source": [
    "# using log likelihood to calculate LR:\n",
    "lrstat <- 2*(logLik(mle1) - logLik(mle2))\n",
    "# getting p-value \n",
    "pchisq(lrstat, df = 1, lower.tail = F)"
   ]
  },
  {
   "cell_type": "markdown",
   "metadata": {},
   "source": [
    "# h)\n",
    "\n",
    "We will carry out Lagrange multiplier test with $H_0$ : $\\beta = 1$"
   ]
  },
  {
   "cell_type": "markdown",
   "metadata": {},
   "source": [
    "# Problem 2"
   ]
  },
  {
   "cell_type": "code",
   "execution_count": 29,
   "metadata": {},
   "outputs": [
    {
     "data": {
      "text/html": [
       "<table>\n",
       "<thead><tr><th scope=col>lhhexp1</th><th scope=col>lhhex12m</th><th scope=col>farm</th><th scope=col>urban98</th><th scope=col>age</th><th scope=col>sex</th></tr></thead>\n",
       "<tbody>\n",
       "\t<tr><td>10.13649 </td><td>11.233212</td><td>non farm </td><td>Urban    </td><td>68       </td><td>2        </td></tr>\n",
       "\t<tr><td>10.25206 </td><td> 8.505120</td><td>non farm </td><td>Urban    </td><td>57       </td><td>2        </td></tr>\n",
       "\t<tr><td>10.93231 </td><td> 8.713418</td><td>non farm </td><td>Urban    </td><td>42       </td><td>1        </td></tr>\n",
       "\t<tr><td>10.26749 </td><td> 9.291736</td><td>non farm </td><td>Urban    </td><td>72       </td><td>2        </td></tr>\n",
       "\t<tr><td>10.48811 </td><td> 7.555382</td><td>non farm </td><td>Urban    </td><td>73       </td><td>2        </td></tr>\n",
       "\t<tr><td>10.52660 </td><td> 9.789702</td><td>non farm </td><td>Urban    </td><td>66       </td><td>2        </td></tr>\n",
       "</tbody>\n",
       "</table>\n"
      ],
      "text/latex": [
       "\\begin{tabular}{r|llllll}\n",
       " lhhexp1 & lhhex12m & farm & urban98 & age & sex\\\\\n",
       "\\hline\n",
       "\t 10.13649  & 11.233212 & non farm  & Urban     & 68        & 2        \\\\\n",
       "\t 10.25206  &  8.505120 & non farm  & Urban     & 57        & 2        \\\\\n",
       "\t 10.93231  &  8.713418 & non farm  & Urban     & 42        & 1        \\\\\n",
       "\t 10.26749  &  9.291736 & non farm  & Urban     & 72        & 2        \\\\\n",
       "\t 10.48811  &  7.555382 & non farm  & Urban     & 73        & 2        \\\\\n",
       "\t 10.52660  &  9.789702 & non farm  & Urban     & 66        & 2        \\\\\n",
       "\\end{tabular}\n"
      ],
      "text/markdown": [
       "\n",
       "| lhhexp1 | lhhex12m | farm | urban98 | age | sex |\n",
       "|---|---|---|---|---|---|\n",
       "| 10.13649  | 11.233212 | non farm  | Urban     | 68        | 2         |\n",
       "| 10.25206  |  8.505120 | non farm  | Urban     | 57        | 2         |\n",
       "| 10.93231  |  8.713418 | non farm  | Urban     | 42        | 1         |\n",
       "| 10.26749  |  9.291736 | non farm  | Urban     | 72        | 2         |\n",
       "| 10.48811  |  7.555382 | non farm  | Urban     | 73        | 2         |\n",
       "| 10.52660  |  9.789702 | non farm  | Urban     | 66        | 2         |\n",
       "\n"
      ],
      "text/plain": [
       "  lhhexp1  lhhex12m  farm     urban98 age sex\n",
       "1 10.13649 11.233212 non farm Urban   68  2  \n",
       "2 10.25206  8.505120 non farm Urban   57  2  \n",
       "3 10.93231  8.713418 non farm Urban   42  1  \n",
       "4 10.26749  9.291736 non farm Urban   72  2  \n",
       "5 10.48811  7.555382 non farm Urban   73  2  \n",
       "6 10.52660  9.789702 non farm Urban   66  2  "
      ]
     },
     "metadata": {},
     "output_type": "display_data"
    }
   ],
   "source": [
    "data2 <- get(load(\"problem_2_dataset.Rdata\"))\n",
    "library(dplyr) #package needed in order to use select() function\n",
    "data2 <- select(data2,  lhhexp1, lhhex12m, farm, urban98, age, sex) #we sill subset the data to variables of interest only\n",
    "head(data2) #let's check the data"
   ]
  },
  {
   "cell_type": "markdown",
   "metadata": {},
   "source": [
    "# a)\n",
    "\n",
    "We will start by describing the data statistically and by making some descriptive plots:"
   ]
  },
  {
   "cell_type": "code",
   "execution_count": 67,
   "metadata": {},
   "outputs": [
    {
     "data": {
      "text/plain": [
       "    lhhexp1          lhhex12m            farm       urban98          age       \n",
       " Min.   : 6.543   Min.   : 0.000   non farm:2561   Rural:4269   Min.   :16.00  \n",
       " 1st Qu.: 8.920   1st Qu.: 5.273   farm    :3438   Urban:1730   1st Qu.:37.00  \n",
       " Median : 9.311   Median : 6.372                                Median :46.00  \n",
       " Mean   : 9.342   Mean   : 6.311                                Mean   :48.01  \n",
       " 3rd Qu.: 9.759   3rd Qu.: 7.392                                3rd Qu.:58.00  \n",
       " Max.   :12.202   Max.   :12.363                                Max.   :95.00  \n",
       "                  NA's   :993                                                  \n",
       " sex     \n",
       " 1:4375  \n",
       " 2:1624  \n",
       "         \n",
       "         \n",
       "         \n",
       "         \n",
       "         "
      ]
     },
     "metadata": {},
     "output_type": "display_data"
    },
    {
     "data": {
      "text/html": [
       "<ol class=list-inline>\n",
       "\t<li>5999</li>\n",
       "\t<li>6</li>\n",
       "</ol>\n"
      ],
      "text/latex": [
       "\\begin{enumerate*}\n",
       "\\item 5999\n",
       "\\item 6\n",
       "\\end{enumerate*}\n"
      ],
      "text/markdown": [
       "1. 5999\n",
       "2. 6\n",
       "\n",
       "\n"
      ],
      "text/plain": [
       "[1] 5999    6"
      ]
     },
     "metadata": {},
     "output_type": "display_data"
    }
   ],
   "source": [
    "summary(data2) # basic information about our variables\n",
    "dim(data2) #number of observations and variables"
   ]
  },
  {
   "cell_type": "code",
   "execution_count": 66,
   "metadata": {},
   "outputs": [
    {
     "name": "stdout",
     "output_type": "stream",
     "text": [
      "[1] \"numeric\"\n",
      "[1] \"numeric\"\n",
      "[1] \"factor\"\n",
      "[1] \"factor\"\n",
      "[1] \"integer\"\n",
      "[1] \"factor\"\n"
     ]
    },
    {
     "data": {
      "text/html": [
       "'factor'"
      ],
      "text/latex": [
       "'factor'"
      ],
      "text/markdown": [
       "'factor'"
      ],
      "text/plain": [
       "[1] \"factor\""
      ]
     },
     "metadata": {},
     "output_type": "display_data"
    },
    {
     "data": {
      "image/png": "[encoded data removed]",
      "text/plain": [
       "Plot with title \"Histogram of data2[, 1]\""
      ]
     },
     "metadata": {},
     "output_type": "display_data"
    },
    {
     "data": {
      "image/png": "[encoded data removed]",
      "text/plain": [
       "Plot with title \"Histogram of data2[, 2]\""
      ]
     },
     "metadata": {},
     "output_type": "display_data"
    },
    {
     "data": {
      "image/png": "[encoded data removed]",
      "text/plain": [
       "Plot with title \"Histogram of data2[, 5]\""
      ]
     },
     "metadata": {},
     "output_type": "display_data"
    }
   ],
   "source": [
    "#data2$lhhexp1 <- numeric(data2$lhexp1)\n",
    "for (i in 1:ncol(data2)){\n",
    "    print(class(data2[,i]))\n",
    "}\n",
    "data2$sex <- factor(data2$sex)\n",
    "class(data2$sex)\n",
    "\n",
    "# Now a few histograms for numeric variables in our data\n",
    "hist(data2[,1])\n",
    "hist(data2[,2])\n",
    "hist(data2[,5])"
   ]
  },
  {
   "cell_type": "markdown",
   "metadata": {},
   "source": [
    "# b)\n",
    "\n",
    "Now we will fit a linear model with $lhhex12m$ as a dependent variable and the rest of the variables as\n",
    "regressors, include constant."
   ]
  },
  {
   "cell_type": "code",
   "execution_count": 79,
   "metadata": {},
   "outputs": [
    {
     "data": {
      "text/plain": [
       "\n",
       "Call:\n",
       "lm(formula = lhhex12m ~ ., data = data2)\n",
       "\n",
       "Residuals:\n",
       "    Min      1Q  Median      3Q     Max \n",
       "-6.5891 -0.9441  0.1066  1.0450  5.7723 \n",
       "\n",
       "Coefficients:\n",
       "              Estimate Std. Error t value Pr(>|t|)    \n",
       "(Intercept)  -1.033299   0.364076  -2.838 0.004556 ** \n",
       "lhhexp1       0.715841   0.036964  19.366  < 2e-16 ***\n",
       "farmfarm      0.034002   0.055252   0.615 0.538312    \n",
       "urban98Urban -0.385190   0.062356  -6.177 7.04e-10 ***\n",
       "age           0.014186   0.001595   8.894  < 2e-16 ***\n",
       "sex2          0.176317   0.051252   3.440 0.000586 ***\n",
       "---\n",
       "Signif. codes:  0 '***' 0.001 '**' 0.01 '*' 0.05 '.' 0.1 ' ' 1\n",
       "\n",
       "Residual standard error: 1.526 on 5000 degrees of freedom\n",
       "  (993 observations deleted due to missingness)\n",
       "Multiple R-squared:  0.08373,\tAdjusted R-squared:  0.08281 \n",
       "F-statistic: 91.38 on 5 and 5000 DF,  p-value: < 2.2e-16\n"
      ]
     },
     "metadata": {},
     "output_type": "display_data"
    },
    {
     "data": {
      "image/png": "[encoded data removed]",
      "text/plain": [
       "plot without title"
      ]
     },
     "metadata": {},
     "output_type": "display_data"
    },
    {
     "data": {
      "image/png": "[encoded data removed]",
      "text/plain": [
       "plot without title"
      ]
     },
     "metadata": {},
     "output_type": "display_data"
    }
   ],
   "source": [
    "model1 <- lm(lhhex12m ~ . ,data = data2)\n",
    "summary(model1)\n",
    "\n",
    "#plot of real values and fitted values\n",
    "plot(data2$lhhex12m,predict(model1, data2), xlim = c(0,12), ylim = c(0,12))\n",
    "#plot of error terms and fitted values\n",
    "plot(data2$lhhex12m,predict(model1,data2)-data2$lhhex12m, xlim = c(0,12), ylim = c(-7,7)) "
   ]
  }
 ],
 "metadata": {
  "kernelspec": {
   "display_name": "R",
   "language": "R",
   "name": "ir"
  },
  "language_info": {
   "codemirror_mode": "r",
   "file_extension": ".r",
   "mimetype": "text/x-r-source",
   "name": "R",
   "pygments_lexer": "r",
   "version": "3.6.1"
  }
 },
 "nbformat": 4,
 "nbformat_minor": 4
}
