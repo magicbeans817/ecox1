{
 "cells": [
  {
   "cell_type": "markdown",
   "metadata": {},
   "source": [
    "## Problem 1"
   ]
  },
  {
   "cell_type": "markdown",
   "metadata": {},
   "source": [
    "# a)\n",
    "\n",
    "We want to obtain log-likelihood function for a random sample of n observations. Our likelihood function looks like this:\n",
    "\n",
    "\\begin{equation*}\n",
    "L(\\alpha, \\beta | x ) = \\Pi_{i=1}^n f(x_i | \\alpha , \\beta )\n",
    "\\end{equation*}\n",
    "\n",
    "Now we logarithmize both sides of likelihood function and perform several computations in order to simplify result:\n",
    "\n",
    "\\begin{equation*}\n",
    "\\ln L(\\alpha, \\beta | x ) = \\sum_{i=1}^n \\ln f(x_i | \\alpha , \\beta ) = \n",
    "\\sum_{i=1}^n \\ln (\\alpha \\beta x_{i}^{\\beta-1}e^{-\\alpha x_i^\\beta}) = \n",
    "\\sum_{i=1}^n \\Big( \\ln(\\alpha \\beta) + (\\beta-1) \\ln(x_i)-\\alpha x_i^\\beta \\Big) = \n",
    "n \\ln (\\alpha \\beta ) + (\\beta - 1) \\sum_{i=1}^n \\Big(\\ln(x_i)\\Big) - \\alpha \\sum_{i=1}^n x_i^\\beta\n",
    "\\end{equation*}\n",
    "\n",
    "\n",
    "Our log-likelihood function for a random sample of n observations:\n",
    "\\begin{equation*}\n",
    "\\ln L(\\alpha, \\beta | x ) = n \\ln (\\alpha \\beta ) + (\\beta - 1) \\sum_{i=1}^n (\\ln(x_i)) - \\alpha \\sum_{i=1}^n x_i^\\beta\n",
    "\\end{equation*}"
   ]
  },
  {
   "cell_type": "markdown",
   "metadata": {},
   "source": [
    "# b)\n",
    "\n",
    "Necessary condition equations for $\\alpha$ and $\\beta$ can be easily derived by taking first derivatives of the log-likelihood function with respect to $\\alpha$ and $\\beta$ respectively and setting them to be equal to zero:\\\n",
    "(This makes sense, as we are trying to maximize the log-likelihood function) \n",
    "\n",
    "\n",
    "$$\n",
    "\\left[\\begin{array}{cc} \n",
    "\\frac{\\partial \\ln L}{\\partial \\alpha} \\\\\n",
    "\\frac{\\partial \\ln L}{\\partial \\beta}\n",
    "\\end{array}\\right] =\n",
    "\\left[\\begin{array}{cc} \n",
    "\\frac{n}{\\alpha} - \\sum_{i=1}^n x_i^\\beta \\\\ \n",
    "\\frac{n}{\\beta} + \\sum_{i=1}^n \\Big( \\ln ( x_i ) \\Big) - \\alpha \\sum_{i=1}^n x_i^\\beta \\ln(x_i)\n",
    "\\end{array}\\right] =\n",
    "\\left[\\begin{array}{cc} \n",
    "0 \\\\ \n",
    "0\n",
    "\\end{array}\\right]\n",
    "$$\n",
    "\n",
    "\n",
    "From this we can easily derive that \n",
    "\n",
    "$$\\alpha = \\frac{n}{\\sum_{i=1}^n x_i^\\beta}$$"
   ]
  },
  {
   "cell_type": "markdown",
   "metadata": {},
   "source": [
    "# c) \n",
    "\n",
    "Hessian matrix of the log-likelihood with respect to $\\alpha$ and $\\beta$:\n",
    "\n",
    "$$\n",
    "H = \n",
    "\\left[\\begin{array}{cc} \n",
    "\\frac{\\partial^2 \\ln L}{\\partial \\alpha^2} & \\frac{\\partial^2 \\ln L}{\\partial \\alpha \\partial \\beta}\\\\\n",
    "\\frac{\\partial^2 \\ln L}{\\partial \\alpha \\partial \\beta} & \\frac{\\partial^2 \\ln L}{\\partial \\beta^2}\n",
    "\\end{array}\\right] =\n",
    "\\left[\\begin{array}{cc} \n",
    "\\frac{-n}{\\alpha^2} & - \\sum_{i=1}^n x_i^\\beta \\ln(x_i)\\\\ \n",
    "-\\sum_{i=1}^n x_i^\\beta \\ln(x_i) & \\frac{-n}{\\beta^2}-\\alpha \\sum_{i=1}^n x_i^\\beta \\ln^2(x_i)\n",
    "\\end{array}\\right]\n",
    "$$\n",
    "\n"
   ]
  },
  {
   "cell_type": "markdown",
   "metadata": {},
   "source": [
    "We will load our dataset for Problem Set 1:"
   ]
  },
  {
   "cell_type": "code",
   "execution_count": 1,
   "metadata": {},
   "outputs": [
    {
     "data": {
      "text/html": [
       "<ol class=list-inline>\n",
       "\t<li>7.70759288321303</li>\n",
       "\t<li>4.07450241902049</li>\n",
       "\t<li>9.54864981180023</li>\n",
       "\t<li>9.20083604407673</li>\n",
       "\t<li>4.28265254818897</li>\n",
       "\t<li>9.19847435551473</li>\n",
       "</ol>\n"
      ],
      "text/latex": [
       "\\begin{enumerate*}\n",
       "\\item 7.70759288321303\n",
       "\\item 4.07450241902049\n",
       "\\item 9.54864981180023\n",
       "\\item 9.20083604407673\n",
       "\\item 4.28265254818897\n",
       "\\item 9.19847435551473\n",
       "\\end{enumerate*}\n"
      ],
      "text/markdown": [
       "1. 7.70759288321303\n",
       "2. 4.07450241902049\n",
       "3. 9.54864981180023\n",
       "4. 9.20083604407673\n",
       "5. 4.28265254818897\n",
       "6. 9.19847435551473\n",
       "\n",
       "\n"
      ],
      "text/plain": [
       "[1] 7.707593 4.074502 9.548650 9.200836 4.282653 9.198474"
      ]
     },
     "metadata": {},
     "output_type": "display_data"
    },
    {
     "data": {
      "text/plain": [
       "     Min.   1st Qu.    Median      Mean   3rd Qu.      Max. \n",
       "  0.00902   4.44232  10.56822  15.19931  21.05152 154.02744 "
      ]
     },
     "metadata": {},
     "output_type": "display_data"
    },
    {
     "data": {
      "image/png": "[encoded data removed]",
      "text/plain": [
       "Plot with title \"Histogram of data1\""
      ]
     },
     "metadata": {},
     "output_type": "display_data"
    }
   ],
   "source": [
    "setwd(\"C:/Users/Honza/Desktop/ecoxhw1/ecox1\")\n",
    "data1 <- get(load(\"problem_1_dataset.Rdata\"))\n",
    "head(data1)\n",
    "summary(data1)\n",
    "hist(data1)"
   ]
  },
  {
   "cell_type": "markdown",
   "metadata": {},
   "source": [
    "# d)\n",
    "\n",
    "We want to obtain maximum likelihood estimates of $\\alpha$ and $\\beta$, and estimate the asymptotic covariance matrix for the estimates. We begin by computing estimates of $\\alpha$ and $\\beta$:\n",
    "\n",
    "\n"
   ]
  },
  {
   "cell_type": "code",
   "execution_count": 28,
   "metadata": {},
   "outputs": [
    {
     "data": {
      "text/plain": [
       "--------------------------------------------\n",
       "Maximum Likelihood estimation\n",
       "Newton-Raphson maximisation, 5 iterations\n",
       "Return code 2: successive function values within tolerance limit\n",
       "Log-Likelihood: -18605.46 \n",
       "2  free parameters\n",
       "Estimates:\n",
       "      Estimate Std. error t value Pr(> t)    \n",
       "alpha 0.062975   0.002381   26.45  <2e-16 ***\n",
       "beta  1.013935   0.011147   90.96  <2e-16 ***\n",
       "---\n",
       "Signif. codes:  0 '***' 0.001 '**' 0.01 '*' 0.05 '.' 0.1 ' ' 1\n",
       "--------------------------------------------"
      ]
     },
     "metadata": {},
     "output_type": "display_data"
    },
    {
     "data": {
      "text/html": [
       "<strong>alpha:</strong> 0.06297"
      ],
      "text/latex": [
       "\\textbf{alpha:} 0.06297"
      ],
      "text/markdown": [
       "**alpha:** 0.06297"
      ],
      "text/plain": [
       "  alpha \n",
       "0.06297 "
      ]
     },
     "metadata": {},
     "output_type": "display_data"
    },
    {
     "data": {
      "text/html": [
       "<strong>beta:</strong> 1.01394"
      ],
      "text/latex": [
       "\\textbf{beta:} 1.01394"
      ],
      "text/markdown": [
       "**beta:** 1.01394"
      ],
      "text/plain": [
       "   beta \n",
       "1.01394 "
      ]
     },
     "metadata": {},
     "output_type": "display_data"
    },
    {
     "data": {
      "text/html": [
       "<table>\n",
       "<thead><tr><th></th><th scope=col>alpha</th><th scope=col>beta</th></tr></thead>\n",
       "<tbody>\n",
       "\t<tr><th scope=row>alpha</th><td> 5.669411e-06</td><td>-2.461425e-05</td></tr>\n",
       "\t<tr><th scope=row>beta</th><td>-2.461425e-05</td><td> 1.242473e-04</td></tr>\n",
       "</tbody>\n",
       "</table>\n"
      ],
      "text/latex": [
       "\\begin{tabular}{r|ll}\n",
       "  & alpha & beta\\\\\n",
       "\\hline\n",
       "\talpha &  5.669411e-06 & -2.461425e-05\\\\\n",
       "\tbeta & -2.461425e-05 &  1.242473e-04\\\\\n",
       "\\end{tabular}\n"
      ],
      "text/markdown": [
       "\n",
       "| <!--/--> | alpha | beta |\n",
       "|---|---|---|\n",
       "| alpha |  5.669411e-06 | -2.461425e-05 |\n",
       "| beta | -2.461425e-05 |  1.242473e-04 |\n",
       "\n"
      ],
      "text/plain": [
       "      alpha         beta         \n",
       "alpha  5.669411e-06 -2.461425e-05\n",
       "beta  -2.461425e-05  1.242473e-04"
      ]
     },
     "metadata": {},
     "output_type": "display_data"
    }
   ],
   "source": [
    "library('maxLik') #load necessary packages\n",
    "library('lmtest')\n",
    "\n",
    "n <- length(data1) #number of observations\n",
    "\n",
    "logLikFun <- function(param){\n",
    "    if (param[1] <= 0 | param[2] <= 0) return(NA) #alpha and beta must be qreater than zero\n",
    "    return(n* log(param[1]*param[2]) + (param[2]-1)*sum(log(data1)) - param[1]*sum(data1^param[2])) #log-likelihood function\n",
    "}\n",
    "\n",
    "gradLik <- function(param){\n",
    "    if (param[1] <= 0 | param[2] <= 0) return(NA) #alpha and beta must be qreater than zero\n",
    "    alpha <- param[1]\n",
    "    beta <- param[2]\n",
    "    k <- 2\n",
    "    g <- numeric(2)\n",
    "    g[1] <- n/alpha - sum(data1^beta)\n",
    "    g[2] <- cbind(n/beta + sum(log(data1)) - alpha*sum(data1^beta * log(data1)))\n",
    "    return(t(g))\n",
    "}\n",
    "\n",
    "hessian <- function(param){\n",
    "    if (param[1] <= 0 | param[2] <= 0) return(NA) #alpha and beta must be qreater than zero\n",
    "    alpha <- param[1]\n",
    "    beta <- param[2]\n",
    "    row1col1 <- ((-n)/alpha**2)\n",
    "    row2col1 <- -sum(log(data1)*data1^beta)\n",
    "    row1col2 <- -sum(log(data1)*data1^beta)\n",
    "    row2col2 <- ((-n)/(beta^2)) - alpha * sum((log(data1)^2)*(data1^beta))\n",
    "    hessian_matrix <- matrix(c(row1col1,row2col1,row1col2,row2col2), nrow = 2, ncol = 2)\n",
    "    return(hessian_matrix)\n",
    "}\n",
    "\n",
    "# When I use gradient and hessian as inputs, my results are different (in bad way).\n",
    "#What is defined wrong in gradLik and hessian?\n",
    "mle <- maxLik(logLik = logLikFun, \n",
    "              #grad = gradLik,\n",
    "              hess = hessian,\n",
    "              start = c(alpha = 0.04, beta = 1.05))\n",
    "summary(mle)\n",
    "#print(paste(\"alpha = \" coef))\n",
    "\n",
    "alpha <- coef(mle)[1]\n",
    "beta <- coef(mle)[2]\n",
    "\n",
    "round(alpha,5)\n",
    "round(beta,5)\n",
    "\n",
    "    \n",
    "\n",
    "vcov(mle)"
   ]
  },
  {
   "cell_type": "markdown",
   "metadata": {},
   "source": [
    "Now that we have obtained estimates of $\\alpha$ and $\\beta$ we can compute covariance matrix for our estimates:"
   ]
  },
  {
   "cell_type": "code",
   "execution_count": 166,
   "metadata": {},
   "outputs": [
    {
     "name": "stdout",
     "output_type": "stream",
     "text": [
      "           [,1]       [,2]\n",
      "[1,] -1260782.8 -249769.79\n",
      "[2,]  -249769.8  -20592.64\n"
     ]
    }
   ],
   "source": [
    "alpha <- coef(mle)[1]\n",
    "beta <- coef(mle)[2]\n",
    "row1col1 <- ((-n)/alpha**2)\n",
    "row2col1 <- -sum((data1**beta)*log(data1))\n",
    "row1col2 <- -sum((data1^beta)*log(data1))\n",
    "row2col2 <- (-n)/(beta^2) - alpha * sum((data1^beta)*log(data1))\n",
    "hessian_matrix <- matrix(c(row1col1,row2col1,row1col2,row2col2), nrow = 2, ncol = 2)\n",
    "print(hessian_matrix)"
   ]
  },
  {
   "cell_type": "code",
   "execution_count": 167,
   "metadata": {},
   "outputs": [
    {
     "name": "stdout",
     "output_type": "stream",
     "text": [
      "             [,1]         [,2]\n",
      "[1,] 7.931580e-07 4.003687e-06\n",
      "[2,] 4.003687e-06 4.856104e-05\n"
     ]
    }
   ],
   "source": [
    "fisher_information_matrix <- -hessian_matrix\n",
    "covariance_matrix <- fisher_information_matrix^(-1)\n",
    "print(covariance_matrix)\n",
    "#Covariance matrix from inputting straight into formula - which covariance matrix is the right one?"
   ]
  },
  {
   "cell_type": "markdown",
   "metadata": {},
   "source": [
    "# e)\n",
    "\n",
    "We want to obtain maximum likelihood estimate of $\\alpha$ under the hypothesis that $\\beta=1$."
   ]
  },
  {
   "cell_type": "code",
   "execution_count": 136,
   "metadata": {},
   "outputs": [
    {
     "ename": "ERROR",
     "evalue": "Error in parse(text = x, srcfile = src): <text>:1:3: unexpected string constant\n9: summary(mle2)\n10: '\n      ^\n",
     "output_type": "error",
     "traceback": [
      "Error in parse(text = x, srcfile = src): <text>:1:3: unexpected string constant\n9: summary(mle2)\n10: '\n      ^\nTraceback:\n"
     ]
    }
   ],
   "source": [
    "'''\n",
    "logLikFun2 <- function(param){\n",
    "    param[2] <- 1\n",
    "    if (param[1] <= 0 | param[2] <= 0) return(NA) #alpha and beta must be qreater than zero\n",
    "    return(n* log(param[1]*param[2]) + (param[2]-1)*sum(log(data1)) - param[1]*sum(data1^param[2])) #log-likelihood function\n",
    "}\n",
    "\n",
    "mle2 <- maxLik(logLikFun2, start = c(alpha = 2, beta = 1))\n",
    "summary(mle2)\n",
    "'''\n",
    "#Why is this not working?\n",
    "'''\n",
    "    just checking if I understand stuff from Statistics\n",
    "    weibull <- function(alpha, beta, vector){\n",
    "    funkce <- alpha * beta * vector^(beta-1) * 2.7**(-alpha * vector**beta)\n",
    "    return(funkce)\n",
    "    }\n",
    "    newdata <- weibull(alpha,beta,data1)\n",
    "    plot(data1,newdata)\n",
    "    '''"
   ]
  },
  {
   "cell_type": "code",
   "execution_count": 111,
   "metadata": {},
   "outputs": [
    {
     "data": {
      "text/plain": [
       "--------------------------------------------\n",
       "Maximum Likelihood estimation\n",
       "Newton-Raphson maximisation, 5 iterations\n",
       "Return code 2: successive function values within tolerance limit\n",
       "Log-Likelihood: -29404.1 \n",
       "1  free parameters\n",
       "Estimates:\n",
       "       Estimate Std. error t value Pr(> t)    \n",
       "alpha 0.0657925  0.0009305   70.71  <2e-16 ***\n",
       "---\n",
       "Signif. codes:  0 '***' 0.001 '**' 0.01 '*' 0.05 '.' 0.1 ' ' 1\n",
       "--------------------------------------------"
      ]
     },
     "metadata": {},
     "output_type": "display_data"
    },
    {
     "data": {
      "text/html": [
       "<strong>alpha:</strong> 0.06579"
      ],
      "text/latex": [
       "\\textbf{alpha:} 0.06579"
      ],
      "text/markdown": [
       "**alpha:** 0.06579"
      ],
      "text/plain": [
       "  alpha \n",
       "0.06579 "
      ]
     },
     "metadata": {},
     "output_type": "display_data"
    },
    {
     "data": {
      "text/html": [
       "<table>\n",
       "<thead><tr><th></th><th scope=col>alpha</th><th scope=col>beta</th></tr></thead>\n",
       "<tbody>\n",
       "\t<tr><th scope=row>alpha</th><td> 5.671537e-06</td><td>-2.462436e-05</td></tr>\n",
       "\t<tr><th scope=row>beta</th><td>-2.462436e-05</td><td> 1.242957e-04</td></tr>\n",
       "</tbody>\n",
       "</table>\n"
      ],
      "text/latex": [
       "\\begin{tabular}{r|ll}\n",
       "  & alpha & beta\\\\\n",
       "\\hline\n",
       "\talpha &  5.671537e-06 & -2.462436e-05\\\\\n",
       "\tbeta & -2.462436e-05 &  1.242957e-04\\\\\n",
       "\\end{tabular}\n"
      ],
      "text/markdown": [
       "\n",
       "| <!--/--> | alpha | beta |\n",
       "|---|---|---|\n",
       "| alpha |  5.671537e-06 | -2.462436e-05 |\n",
       "| beta | -2.462436e-05 |  1.242957e-04 |\n",
       "\n"
      ],
      "text/plain": [
       "      alpha         beta         \n",
       "alpha  5.671537e-06 -2.462436e-05\n",
       "beta  -2.462436e-05  1.242957e-04"
      ]
     },
     "metadata": {},
     "output_type": "display_data"
    }
   ],
   "source": [
    "#We set beta to be equal to one\n",
    "logLikFun2 <- function(param){\n",
    "    if (param[1] <= 0) return(NA) #alpha must be qreater than zero\n",
    "    return(n* log(param[1]) + (-1)*sum(log(data1)) - param[1]*sum(data1)) #log-likelihood function\n",
    "}\n",
    "\n",
    "mle2 <- maxLik(logLikFun2, start = c(alpha = 0.5))\n",
    "summary(mle2)\n",
    "round(coef(mle2)[1],5)"
   ]
  },
  {
   "cell_type": "markdown",
   "metadata": {},
   "source": [
    "# f)\n",
    "\n",
    "We will carry out Wald test with $H_0:$ $\\beta=1$"
   ]
  },
  {
   "cell_type": "code",
   "execution_count": null,
   "metadata": {},
   "outputs": [],
   "source": [
    "# a tady uz nevim. Abych to prevedl na OLS, musel bych pracovat s normalnim rozdelenim, a tohle neni normalni."
   ]
  }
 ],
 "metadata": {
  "kernelspec": {
   "display_name": "R",
   "language": "R",
   "name": "ir"
  },
  "language_info": {
   "codemirror_mode": "r",
   "file_extension": ".r",
   "mimetype": "text/x-r-source",
   "name": "R",
   "pygments_lexer": "r",
   "version": "3.6.1"
  }
 },
 "nbformat": 4,
 "nbformat_minor": 4
}
