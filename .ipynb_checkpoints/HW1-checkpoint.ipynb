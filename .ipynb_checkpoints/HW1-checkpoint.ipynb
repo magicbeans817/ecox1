{
 "cells": [
  {
   "cell_type": "markdown",
   "metadata": {},
   "source": [
    "## Problem 1"
   ]
  },
  {
   "cell_type": "markdown",
   "metadata": {},
   "source": [
    "# a)\n",
    "\n",
    "We want to obtain log-likelihood function for a random sample of n observations. Our likelihood function looks like this:\n",
    "\n",
    "\\begin{equation*}\n",
    "L(\\alpha, \\beta | x ) = \\Pi_{i=1}^n f(x_i | \\alpha , \\beta )\n",
    "\\end{equation*}\n",
    "\n",
    "Now we logarithmize both sides of likelihood function and perform several computations in order to simplify result:\n",
    "\n",
    "\\begin{equation*}\n",
    "\\ln L(\\alpha, \\beta | x ) = \\sum_{i=1}^n \\ln f(x_i | \\alpha , \\beta ) = \n",
    "\\sum_{i=1}^n \\ln (\\alpha \\beta x_{i}^{\\beta-1}e^{-\\alpha x_i^\\beta}) = \n",
    "\\sum_{i=1}^n \\Big( \\ln(\\alpha \\beta) + (\\beta-1) \\ln(x_i)-\\alpha x_i^\\beta \\Big) = \n",
    "n \\ln (\\alpha \\beta ) + (\\beta - 1) \\sum_{i=1}^n \\Big(\\ln(x_i)\\Big) - \\alpha \\sum_{i=1}^n x_i^\\beta\n",
    "\\end{equation*}\n",
    "\n",
    "\n",
    "Our log-likelihood function for a random sample of n observations:\n",
    "\\begin{equation*}\n",
    "\\ln L(\\alpha, \\beta | x ) = n \\ln (\\alpha \\beta ) + (\\beta - 1) \\sum_{i=1}^n (\\ln(x_i)) - \\alpha \\sum_{i=1}^n x_i^\\beta\n",
    "\\end{equation*}"
   ]
  },
  {
   "cell_type": "markdown",
   "metadata": {},
   "source": [
    "# b)\n",
    "\n",
    "Necessary condition equations for $\\alpha$ and $\\beta$ can be easily derived by taking first derivatives of the log-likelihood function with respect to $\\alpha$ and $\\beta$ respectively and setting them to be equal to zero:\\\n",
    "(This makes sense, as we are trying to maximize the log-likelihood function) \n",
    "\n",
    "\n",
    "$$\n",
    "\\left[\\begin{array}{cc} \n",
    "\\frac{\\partial \\ln L}{\\partial \\alpha} \\\\\n",
    "\\frac{\\partial \\ln L}{\\partial \\beta}\n",
    "\\end{array}\\right] =\n",
    "\\left[\\begin{array}{cc} \n",
    "\\frac{n}{\\alpha} - \\sum_{i=1}^n x_i^\\beta \\\\ \n",
    "\\frac{n}{\\beta} + \\sum_{i=1}^n \\Big( \\ln ( x_i ) \\Big) - \\alpha \\ln (\\beta) \\sum_{i=1}^n x_i^\\beta\n",
    "\\end{array}\\right] =\n",
    "\\left[\\begin{array}{cc} \n",
    "0 \\\\ \n",
    "0\n",
    "\\end{array}\\right]\n",
    "$$\n",
    "\n",
    "\n",
    "From this we can easily derive that $\\alpha = \\frac{n}{\\sum_{i=1}^n x_i^\\beta}$. In order to obtain maximizing value of $\\beta$ we need to plug into second equation vlaue of $\\alpha$:\n",
    "\n",
    "\n",
    "\\begin{equation*}\n",
    "0 = \\frac{n}{\\beta} + \\sum_{i=1}^n \\Big( \\ln ( x_i ) \\Big) - \\alpha \\ln (\\beta) \\sum_{i=1}^n x_i^\\beta = \n",
    "\\frac{n}{\\beta} + \\sum_{i=1}^n \\Big( \\ln ( x_i ) \\Big) - \\frac{n}{\\sum_{i=1}^n x_i^\\beta} \\ln (\\beta) \\sum_{i=1}^n x_i^\\beta =\n",
    "\\frac{n}{\\beta}-n \\ln (\\beta)\n",
    "\\end{equation*}\n",
    "\n",
    "\\begin{equation*}\n",
    "0 = \\frac{n}{\\beta}-n \\ln (\\beta)\n",
    "\\end{equation*}\n",
    "\n",
    "\\begin{equation*}\n",
    "\\beta \\ ln \\beta = 1\n",
    "\\end{equation*}\n",
    "\n",
    "\n",
    "This is hardly \"nice\" solution. To obtain value of $\\beta$ as a real number, we need to apply Lambert W function:\n",
    "\n",
    "\\begin{equation*}\n",
    "\\beta \\ ln \\beta = 1\n",
    "\\end{equation*}\n",
    "\n",
    "\\begin{equation*}\n",
    "e^{ \\ln \\beta} \\ ln \\beta = 1\n",
    "\\end{equation*}\n",
    "\n",
    "\\begin{equation*}\n",
    "\\ln \\beta = W(1)\n",
    "\\end{equation*}\n",
    "\n",
    "\\begin{equation*}\n",
    "\\beta = e^W(1)\n",
    "\\end{equation*}\n"
   ]
  },
  {
   "cell_type": "markdown",
   "metadata": {},
   "source": [
    "# c) \n",
    "\n",
    "Hessian matrix of the log-likelihood with respect to $\\alpha$ and $\\beta$:\n",
    "\n",
    "$$\n",
    "H = \n",
    "\\left[\\begin{array}{cc} \n",
    "\\frac{\\partial^2 \\ln L}{\\partial \\alpha^2} & \\frac{\\partial^2 \\ln L}{\\partial \\alpha \\partial \\beta}\\\\\n",
    "\\frac{\\partial^2 \\ln L}{\\partial \\alpha \\partial \\beta} & \\frac{\\partial^2 \\ln L}{\\partial \\beta^2}\n",
    "\\end{array}\\right] =\n",
    "\\left[\\begin{array}{cc} \n",
    "\\frac{-n}{\\alpha^2} & -\\ln \\sum_{i=1}^n x_i^\\beta \\\\ \n",
    "-\\ln \\sum_{i=1}^n x_i^\\beta & \\frac{-n}{\\beta^2}-\\alpha \\sum_{i=1}^n x_i^\\beta \\Big( \\frac{1}{\\beta } + \\ln^2(\\beta)\\Big)\n",
    "\\end{array}\\right]\n",
    "$$\n",
    "\n"
   ]
  },
  {
   "cell_type": "markdown",
   "metadata": {},
   "source": [
    "We will load our dataset for Problem Set 1:"
   ]
  },
  {
   "cell_type": "code",
   "execution_count": 13,
   "metadata": {},
   "outputs": [
    {
     "data": {
      "text/html": [
       "<ol class=list-inline>\n",
       "\t<li>7.70759288321303</li>\n",
       "\t<li>4.07450241902049</li>\n",
       "\t<li>9.54864981180023</li>\n",
       "\t<li>9.20083604407673</li>\n",
       "\t<li>4.28265254818897</li>\n",
       "\t<li>9.19847435551473</li>\n",
       "</ol>\n"
      ],
      "text/latex": [
       "\\begin{enumerate*}\n",
       "\\item 7.70759288321303\n",
       "\\item 4.07450241902049\n",
       "\\item 9.54864981180023\n",
       "\\item 9.20083604407673\n",
       "\\item 4.28265254818897\n",
       "\\item 9.19847435551473\n",
       "\\end{enumerate*}\n"
      ],
      "text/markdown": [
       "1. 7.70759288321303\n",
       "2. 4.07450241902049\n",
       "3. 9.54864981180023\n",
       "4. 9.20083604407673\n",
       "5. 4.28265254818897\n",
       "6. 9.19847435551473\n",
       "\n",
       "\n"
      ],
      "text/plain": [
       "[1] 7.707593 4.074502 9.548650 9.200836 4.282653 9.198474"
      ]
     },
     "metadata": {},
     "output_type": "display_data"
    }
   ],
   "source": [
    "setwd(\"C:/Users/Honza/Desktop/ecoxhw1/ecox1\")\n",
    "data1 <- get(load(\"problem_1_dataset.Rdata\"))\n",
    "head(data1)"
   ]
  },
  {
   "cell_type": "code",
   "execution_count": null,
   "metadata": {},
   "outputs": [],
   "source": []
  }
 ],
 "metadata": {
  "kernelspec": {
   "display_name": "R",
   "language": "R",
   "name": "ir"
  },
  "language_info": {
   "codemirror_mode": "r",
   "file_extension": ".r",
   "mimetype": "text/x-r-source",
   "name": "R",
   "pygments_lexer": "r",
   "version": "3.6.1"
  }
 },
 "nbformat": 4,
 "nbformat_minor": 4
}
